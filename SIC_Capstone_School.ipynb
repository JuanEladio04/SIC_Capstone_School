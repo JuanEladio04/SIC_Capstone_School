{
 "cells": [
  {
   "cell_type": "markdown",
   "id": "a79a183d",
   "metadata": {},
   "source": [
    "# SIC_Capstone_School"
   ]
  },
  {
   "cell_type": "markdown",
   "id": "5f99c9dd",
   "metadata": {},
   "source": [
    "## City Simulation"
   ]
  },
  {
   "cell_type": "code",
   "execution_count": null,
   "id": "cce57553",
   "metadata": {},
   "outputs": [],
   "source": [
    "class CitySimulation:\n",
    "    def __init__(self):\n",
    "        pass\n",
    "\n",
    "    def command_loop(self):\n",
    "        print(\"Starting City simulation... Type 'q' to exit\")\n",
    "        while True:\n",
    "            command = input('> ')\n",
    "            if command == 'q':\n",
    "                break\n",
    "            self.process_command(command)\n",
    "            self.agent_manager.check_ready_services()  "
   ]
  },
  {
   "cell_type": "markdown",
   "id": "cf7b4387",
   "metadata": {},
   "source": [
    "## Agent"
   ]
  },
  {
   "cell_type": "code",
   "execution_count": null,
   "id": "2f1da4b4",
   "metadata": {},
   "outputs": [],
   "source": [
    "class Agent:\n",
    "    def __init__(self, name):\n",
    "        self.name = name\n",
    "    \n",
    "    def __str__(self):\n",
    "        return f\"{self.name}\"\n",
    "\n",
    "    def describe(self):\n",
    "        return self.__str__()"
   ]
  },
  {
   "cell_type": "markdown",
   "id": "453c0284",
   "metadata": {},
   "source": [
    "## Agent Manager"
   ]
  },
  {
   "cell_type": "code",
   "execution_count": null,
   "id": "6b0b5b7d",
   "metadata": {},
   "outputs": [],
   "source": [
    "class AgentManager:\n",
    "    \"\"\"Clase base para gestionar la creación y eliminación de agentes.\"\"\"\n",
    "    def __init__(self):\n",
    "        self.agents = {}                    # Diccionario para almacenar agentes\n",
    "        self.TIME_THRESHOLD = 10            # Umbral de 10 segundos\n",
    "\n",
    "    def filter_agents(self,*agents_types):\n",
    "        \"\"\"Filtra agentes según los tipos proporcionados.\"\"\"\n",
    "        filtered_agents = {\n",
    "            name: agent for name, agent in agents.items()\n",
    "            if isinstance(agent, tuple(agents_types))      # Filtrar según tipos\n",
    "        }\n",
    "        return filtered_agents\n",
    "    \n",
    "    def get_agent_by_name(self, agent_name, agent_type):\n",
    "        \"\"\"Devuelve el agente con el nombre dado y tipo específico, o None si no se encuentra.\"\"\"\n",
    "        return next((agent for agent in agents.values() \n",
    "                     if isinstance(agent, agent_type) and agent.name == agent_name), None)\n",
    "\n",
    "    def add_agent(self, agent_type, agent_name):\n",
    "        \"\"\"Añade un nuevo agente al sistema.\"\"\"\n",
    "        if isinstance(agent_type, type) and agent_type == Client: \n",
    "            agents[agent_name] = Client(agent_name)\n",
    "        elif isinstance(agent_type, type) and agent_type == TownHall:\n",
    "            agents[agent_name] = TownHall(agent_name)\n",
    "        else:\n",
    "            print(f\"Invalid agent type: {agent_type}. Please use valid agent.\")\n",
    "            return\n",
    "            \n",
    "        print(f'{agent_type.__name__} {agent_name} added to the system.')\n",
    "\n",
    "    def remove_agent(self, agent_name):\n",
    "        \"\"\"Elimina un agente del sistema.\"\"\"\n",
    "        if agent_name in agents:\n",
    "            del agents[agent_name]\n",
    "            print(f'Agent {agent_name} removed from the system.')\n",
    "        else:\n",
    "            print(f'Agent {agent_name} not found.')\n",
    "\n",
    "    def list_agents(self, agent_type=None):\n",
    "        \"\"\"Muestra todos los agentes o filtra por clientes o ayuntamientos en el sistema.\"\"\"\n",
    "        if agent_type:\n",
    "            print(f\"Current {agent_type.__name__}(s):\")\n",
    "            filtered_agents = self.filter_agents(agent_type)\n",
    "            for agent in filtered_agents.values():               # Imprimir descripciones de los agentes filtrados\n",
    "                print(agent.describe())\n",
    "        else:\n",
    "            print(\"Current agents:\")\n",
    "            for agent in agents.values():\n",
    "                print(agent.describe())     \n",
    "\n",
    "    def check_ready_services(self):\n",
    "        \"\"\"Verifica si hay servicios listos para ser atendidos por cada ayuntamiento.\"\"\"\n",
    "        filtered_agents = self.filter_agents(TownHall)  # Filtrar solo los ayuntamientos\n",
    "        for town_hall in filtered_agents.values():\n",
    "            while not town_hall.request_services.is_empty():  # Procesar todos los servicios en la cola\n",
    "                if self.is_time_to_serve(town_hall):  # Verificar si es tiempo de atender el servicio\n",
    "                    town_hall.process_request_service()  # Procesar el servicio\n",
    "                else:\n",
    "                    break  # Salir si no es tiempo de procesar el siguiente servicio\n",
    "\n",
    "    def is_time_to_serve(self, town_hall):\n",
    "        \"\"\"Verifica si es el momento de atender el siguiente servicio en la cola.\"\"\"\n",
    "        if not town_hall.request_services.is_empty():\n",
    "            last_request = town_hall.request_services.peek()  # Obtenemos la última solicitud\n",
    "            current_time = time.time()                        # Método que deberías implementar para obtener el tiempo actual\n",
    "            return (current_time - last_request['timestamp']) >= self.TIME_THRESHOLD  # Define el umbral\n",
    "\n",
    "        return False        \n",
    "    \n",
    "    def validate_client_location(self, client, town_hall_name):\n",
    "        if client.current_town_hall() is None:\n",
    "            print(f'Client {client.name} cannot perform this action because not in it.')\n",
    "            return False\n",
    "        elif client.current_town_hall() != town_hall_name:\n",
    "            print(f'Client {client.name} is in a different town hall: {client.current_town_hall()}.')\n",
    "            return False\n",
    "        return True\n",
    "\n",
    "    def load_agents_from_file(self, file_path):\n",
    "        \"\"\"Carga agentes desde un fichero JSON.\"\"\"\n",
    "\n",
    "        import json\n",
    "        try:\n",
    "            with open(file_path, 'r') as file:\n",
    "                data = json.load(file)\n",
    "\n",
    "            # Cargar town_halls\n",
    "            for town_hall_name, town_hall_data in data.get(\"town_halls\", {}).items():\n",
    "                self.add_agent(TownHall, town_hall_name)\n",
    "                town_hall = self.get_agent_by_name(town_hall_name, TownHall)\n",
    "                if town_hall:\n",
    "                    # Añadir servicios\n",
    "                    for service in town_hall_data.get(\"services\", []):\n",
    "                        town_hall.add_service(service)\n",
    "                    # Añadir solicitudes en cola\n",
    "                    for request in town_hall_data.get(\"queue\", []):\n",
    "                        town_hall.add_request_service(request[\"client_name\"], request[\"service_name\"])\n",
    "\n",
    "            # Cargar clients\n",
    "            for client_name, client_data in data.get(\"clients\", {}).items():\n",
    "                self.add_agent(Client, client_name)\n",
    "                client = self.get_agent_by_name(client_name, Client)\n",
    "                if client and client_data.get(\"current_town_hall\"):\n",
    "                    client.enter_town_hall(client_data[\"current_town_hall\"])\n",
    "\n",
    "            print(f\"--- Agents loaded successfully from {file_path}. --- \")\n",
    "        except FileNotFoundError:\n",
    "            print(f\"Error: File '{file_path}' not found.\")\n",
    "        except json.JSONDecodeError:\n",
    "            print(f\"Error: File '{file_path}' is not a valid JSON file.\")\n",
    "        except Exception as e:\n",
    "            print(f\"An error occurred while loading agents: {e}\")     "
   ]
  },
  {
   "cell_type": "markdown",
   "id": "9450e892",
   "metadata": {},
   "source": [
    "## Clients"
   ]
  },
  {
   "cell_type": "code",
   "execution_count": null,
   "id": "5b48652d",
   "metadata": {},
   "outputs": [],
   "source": [
    "class Client(Agent):\n",
    "    \"\"\"Clase que representa a un cliente que interactúa con el ayuntamiento.\"\"\"\n",
    "    def __init__(self, name):\n",
    "        super().__init__(name)\n",
    "        self.town_hall_stack = Stack()  # En que ayuntamiento se encuentra\n",
    "\n",
    "    def enter_town_hall(self, town_hall_name):\n",
    "        \"\"\"Método para marcar la entrada en un ayuntamiento.\"\"\"\n",
    "        self.town_hall_stack.push(town_hall_name)\n",
    "        print(f'{self.name} entered {town_hall_name}.')\n",
    "\n",
    "    def exit_town_hall(self):\n",
    "        \"\"\"Método para marcar la salida del último ayuntamiento visitado.\"\"\"\n",
    "        town_hall_name = self.town_hall_stack.pop()\n",
    "        if town_hall_name:\n",
    "            print(f'{self.name} exited {town_hall_name}.')\n",
    "        else:\n",
    "            print(f'{self.name} is not in any town hall.')\n",
    "\n",
    "    def current_town_hall(self):\n",
    "        \"\"\"Método para obtener el ayuntamiento actual.\"\"\"\n",
    "        return self.town_hall_stack.peek()    \n",
    "    \n",
    "    HELP_MESSAGES = {\n",
    "        \"add_client\": \"client add_client <client_name>: Add a new client to the system.\",\n",
    "        \"show_all\": \"client show_all: Show the list of all clients in the system.\",\n",
    "        \"remove_client\": \"client remove_client <client_name>: Remove a client from the system.\",\n",
    "        \"request_service\": \"client request_service <client_name> <town_hall_name> <service_name>: Request a specific service from the town hall.\",\n",
    "        \"enter_town_hall\": \"client enter_town_hall <client_name> <town_hall_name>: Allow a client to enter the town hall.\",\n",
    "        \"exit_town_hall\": \"client exit_town_hall <client_name> <town_hall_name>: Allow a client to exit the town hall.\",\n",
    "        \"quit\": \"q: Exit the simulation.\"\n",
    "    }\n",
    "\n",
    "    @classmethod\n",
    "    def help(cls):\n",
    "        \"\"\"Muestra los comandos disponibles para los clientes.\"\"\"\n",
    "        print(\"Available commands for client:\")\n",
    "        for command, description in cls.HELP_MESSAGES.items():\n",
    "            print(f\"- {description}\")"
   ]
  },
  {
   "cell_type": "markdown",
   "id": "d9b090a9",
   "metadata": {},
   "source": [
    "## School"
   ]
  },
  {
   "cell_type": "code",
   "execution_count": null,
   "id": "0d90a799",
   "metadata": {},
   "outputs": [],
   "source": [
    "class School(Agent):\n",
    "    pass"
   ]
  },
  {
   "cell_type": "markdown",
   "id": "f068aaa6",
   "metadata": {},
   "source": [
    "## Main program"
   ]
  },
  {
   "cell_type": "code",
   "execution_count": null,
   "id": "788ad798",
   "metadata": {},
   "outputs": [],
   "source": [
    "import time\n",
    "if __name__ == \"__main__\":\n",
    "    simulation = CitySimulation()\n",
    "    simulation.command_loop()\n",
    "\n",
    "print(\"Hosdfosdfsdfsdfsdfdif\")"
    "   \n",
    "    # Hola"
   ]
  }
 ],
 "metadata": {
  "kernelspec": {
   "display_name": "Phython-Project",
   "language": "python",
   "name": "python3"
  },
  "language_info": {
   "codemirror_mode": {
    "name": "ipython",
    "version": 3
   },
   "file_extension": ".py",
   "mimetype": "text/x-python",
   "name": "python",
   "nbconvert_exporter": "python",
   "pygments_lexer": "ipython3",
   "version": "3.10.16"
  }
 },
 "nbformat": 4,
 "nbformat_minor": 5
}
