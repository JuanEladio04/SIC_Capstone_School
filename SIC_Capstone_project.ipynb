{
 "cells": [
  {
   "cell_type": "markdown",
   "id": "5f99c9dd",
   "metadata": {},
   "source": [
    "## School Simulation"
   ]
  },
  {
   "cell_type": "code",
   "execution_count": null,
   "id": "cce57553",
   "metadata": {},
   "outputs": [],
   "source": [
    "class SchoolSimulation:\n",
    "    def __init__(self):\n",
    "        pass\n",
    "\n",
    "    def command_loop(self):\n",
    "        print(\"Starting school simulation... Type 'q' to exit\")\n",
    "        while True:\n",
    "            command = input('> ')\n",
    "            if command == 'q':\n",
    "                break\n",
    "            self.process_command(command)\n",
    "            self.agent_manager.check_ready_services()  "
   ]
  },
  {
   "cell_type": "markdown",
   "id": "f068aaa6",
   "metadata": {},
   "source": [
    "# Main program\n",
    "# "
   ]
  },
  {
   "cell_type": "code",
   "execution_count": 6,
   "id": "788ad798",
   "metadata": {},
   "outputs": [
    {
     "name": "stdout",
     "output_type": "stream",
     "text": [
      "Starting city simulation... Type 'q' to exit\n"
     ]
    }
   ],
   "source": [
    "import time\n",
    "if __name__ == \"__main__\":\n",
    "    simulation = SchoolSimulation()\n",
    "    simulation.command_loop()"
   ]
  }
 ],
 "metadata": {
  "kernelspec": {
   "display_name": "base",
   "language": "python",
   "name": "python3"
  },
  "language_info": {
   "codemirror_mode": {
    "name": "ipython",
    "version": 3
   },
   "file_extension": ".py",
   "mimetype": "text/x-python",
   "name": "python",
   "nbconvert_exporter": "python",
   "pygments_lexer": "ipython3",
   "version": "3.12.7"
  }
 },
 "nbformat": 4,
 "nbformat_minor": 5
}
